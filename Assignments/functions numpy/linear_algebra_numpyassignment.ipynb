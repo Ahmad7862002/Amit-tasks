{
  "cells": [
    {
      "cell_type": "markdown",
      "metadata": {
        "id": "Dyy2aiXtblk6"
      },
      "source": [
        "## Write a Numpy program to compute the multiplication of two given matrixes"
      ]
    },
    {
      "cell_type": "code",
      "execution_count": 16,
      "metadata": {
        "id": "y834KBTNblk_"
      },
      "outputs": [],
      "source": [
        "import numpy as np\n",
        "\n",
        "x = np.array([[1,7,3],[9,5,8],[7,7,10]])\n",
        "y = np.array([[1,2,3],[4,5,6],[7,8,9]])\n",
        "\n",
        "def dot ( x,y):\n",
        "  return x.dot(y)"
      ]
    },
    {
      "cell_type": "code",
      "execution_count": 17,
      "metadata": {
        "colab": {
          "base_uri": "https://localhost:8080/"
        },
        "id": "vhaLGclzbllA",
        "outputId": "ac988048-2090-4d07-fad9-8aba8b12d74c"
      },
      "outputs": [
        {
          "output_type": "execute_result",
          "data": {
            "text/plain": [
              "array([[ 50,  61,  72],\n",
              "       [ 85, 107, 129],\n",
              "       [105, 129, 153]])"
            ]
          },
          "metadata": {},
          "execution_count": 17
        }
      ],
      "source": [
        "dot(x,y)"
      ]
    },
    {
      "cell_type": "markdown",
      "metadata": {
        "id": "IhNki3ZdbllB"
      },
      "source": [
        "## Write a NumPy program to compute the determinant of a given square array"
      ]
    },
    {
      "cell_type": "code",
      "execution_count": 8,
      "metadata": {
        "id": "Qfdt2-9wbllB"
      },
      "outputs": [],
      "source": [
        "def det (x):\n",
        "  det = np.linalg.det(x)\n",
        "  return det"
      ]
    },
    {
      "cell_type": "code",
      "execution_count": 9,
      "metadata": {
        "colab": {
          "base_uri": "https://localhost:8080/"
        },
        "id": "kNw7VgG3bllB",
        "outputId": "c9b98160-386b-46f1-eb1c-58512bf232b3"
      },
      "outputs": [
        {
          "output_type": "execute_result",
          "data": {
            "text/plain": [
              "-160.00000000000009"
            ]
          },
          "metadata": {},
          "execution_count": 9
        }
      ],
      "source": [
        "det(x)"
      ]
    },
    {
      "cell_type": "markdown",
      "metadata": {
        "id": "Xr_6j26QbllB"
      },
      "source": [
        "## Write a NumPy program to compute the cross product of two given vectors"
      ]
    },
    {
      "cell_type": "code",
      "execution_count": 18,
      "metadata": {
        "id": "cMK59ccvbllC"
      },
      "outputs": [],
      "source": [
        "def cross (x,y):\n",
        "  return np.cross(x,y)"
      ]
    },
    {
      "cell_type": "code",
      "execution_count": 19,
      "metadata": {
        "colab": {
          "base_uri": "https://localhost:8080/"
        },
        "id": "zBhCnJQebllC",
        "outputId": "0757ee11-0b3c-421c-837e-e948f723b93b"
      },
      "outputs": [
        {
          "output_type": "execute_result",
          "data": {
            "text/plain": [
              "array([[ 15,   0,  -5],\n",
              "       [-10, -22,  25],\n",
              "       [-17,   7,   7]])"
            ]
          },
          "metadata": {},
          "execution_count": 19
        }
      ],
      "source": [
        "cross(x,y)"
      ]
    },
    {
      "cell_type": "markdown",
      "metadata": {
        "id": "StRka124bllD"
      },
      "source": [
        "## Write a NumPy program to compute the condition number of a given matrix"
      ]
    },
    {
      "cell_type": "code",
      "execution_count": 20,
      "metadata": {
        "id": "RPGdUxopbllD"
      },
      "outputs": [],
      "source": [
        "def cond (x):\n",
        "  min = x[0][0]\n",
        "  max = x[0][0]\n",
        "  for i in range(x.shape[0]):\n",
        "    for j in range(x.shape[1]):\n",
        "      if x[i][j] < min:\n",
        "        min = x[i][j]\n",
        "      if x[i][j] > max:\n",
        "        max = x[i][j]\n",
        "  return max/min\n"
      ]
    },
    {
      "cell_type": "code",
      "execution_count": 21,
      "metadata": {
        "colab": {
          "base_uri": "https://localhost:8080/"
        },
        "id": "Lx-icVSHbllD",
        "outputId": "ae7cc2a4-f211-4d87-d1e9-8be657781461"
      },
      "outputs": [
        {
          "output_type": "execute_result",
          "data": {
            "text/plain": [
              "10.0"
            ]
          },
          "metadata": {},
          "execution_count": 21
        }
      ],
      "source": [
        "cond(x)"
      ]
    },
    {
      "cell_type": "markdown",
      "metadata": {
        "id": "U2UAmQ-IbllE"
      },
      "source": [
        "## Write a NumPy program to compute the inverse of a given matrix"
      ]
    },
    {
      "cell_type": "code",
      "execution_count": 10,
      "metadata": {
        "id": "BJ2xdzXpbllE"
      },
      "outputs": [],
      "source": [
        "def inv (x):\n",
        "  inv = np.linalg.inv(x)\n",
        "  return inv"
      ]
    },
    {
      "cell_type": "code",
      "execution_count": 11,
      "metadata": {
        "colab": {
          "base_uri": "https://localhost:8080/"
        },
        "id": "86abu-gIbllE",
        "outputId": "af61b7df-25aa-46d5-b9dd-6d5c64e9ae3c"
      },
      "outputs": [
        {
          "output_type": "execute_result",
          "data": {
            "text/plain": [
              "array([[ 0.0375 ,  0.30625, -0.25625],\n",
              "       [ 0.2125 ,  0.06875, -0.11875],\n",
              "       [-0.175  , -0.2625 ,  0.3625 ]])"
            ]
          },
          "metadata": {},
          "execution_count": 11
        }
      ],
      "source": [
        "inv(x)"
      ]
    },
    {
      "cell_type": "code",
      "execution_count": null,
      "metadata": {
        "id": "FsUdweuXbllE"
      },
      "outputs": [],
      "source": []
    }
  ],
  "metadata": {
    "kernelspec": {
      "display_name": "Python 3",
      "language": "python",
      "name": "python3"
    },
    "language_info": {
      "codemirror_mode": {
        "name": "ipython",
        "version": 3
      },
      "file_extension": ".py",
      "mimetype": "text/x-python",
      "name": "python",
      "nbconvert_exporter": "python",
      "pygments_lexer": "ipython3",
      "version": "3.7.3"
    },
    "colab": {
      "provenance": [],
      "collapsed_sections": []
    }
  },
  "nbformat": 4,
  "nbformat_minor": 0
}